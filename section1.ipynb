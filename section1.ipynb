{
  "nbformat": 4,
  "nbformat_minor": 0,
  "metadata": {
    "colab": {
      "provenance": [],
      "authorship_tag": "ABX9TyNQoTRb+dS13uuw/DqXOnpn",
      "include_colab_link": true
    },
    "kernelspec": {
      "name": "ir",
      "display_name": "R"
    },
    "language_info": {
      "name": "R"
    }
  },
  "cells": [
    {
      "cell_type": "markdown",
      "metadata": {
        "id": "view-in-github",
        "colab_type": "text"
      },
      "source": [
        "<a href=\"https://colab.research.google.com/github/Joi-e/Data-Manipulation-Coursework/blob/main/section1.ipynb\" target=\"_parent\"><img src=\"https://colab.research.google.com/assets/colab-badge.svg\" alt=\"Open In Colab\"/></a>"
      ]
    },
    {
      "cell_type": "markdown",
      "source": [],
      "metadata": {
        "id": "LMuoprOXoZnd"
      }
    },
    {
      "cell_type": "code",
      "execution_count": null,
      "metadata": {
        "colab": {
          "base_uri": "https://localhost:8080/"
        },
        "id": "qvX4pcdVK0Y0",
        "outputId": "20ca86b1-99af-4c87-888b-b2f6c61e0e33"
      },
      "outputs": [
        {
          "output_type": "stream",
          "name": "stderr",
          "text": [
            "Installing package into ‘/usr/local/lib/R/site-library’\n",
            "(as ‘lib’ is unspecified)\n",
            "\n",
            "also installing the dependencies ‘R.oo’, ‘R.methodsS3’, ‘writexl’, ‘R.utils’\n",
            "\n",
            "\n"
          ]
        }
      ],
      "source": [
        "install.packages(\"rio\")\n",
        "library(rio)\n",
        "energy_dataset <- import(\"https://raw.githubusercontent.com/Joi-e/csvFiles/1cda24a5b69c2bc8ddc2a5b9f4f32b1bfa83a5b9/Energy_dataset.csv\")\n"
      ]
    },
    {
      "cell_type": "code",
      "source": [
        "#Selecting records and aggregate functions\n",
        "install.packages('sqldf')\n",
        "\n",
        "library(sqldf)\n",
        "\n",
        "Heating_load <- \"\n",
        "        SELECT *\n",
        "        FROM energy_dataset\n",
        "        WHERE [Heating Load] = (SELECT MIN([Heating Load]) FROM energy_dataset)\n",
        "        OR [Heating Load] = (SELECT MAX([Heating Load]) FROM energy_dataset)\n",
        "        \"\n",
        "\n",
        "Heating_load_sql <- sqldf(Heating_load)\n",
        "\n",
        "print(Heating_load_sql)"
      ],
      "metadata": {
        "colab": {
          "base_uri": "https://localhost:8080/"
        },
        "id": "jq9yyXHXL4Xh",
        "outputId": "2a06c49b-96bf-44bb-81e4-e10e36ee3c8a"
      },
      "execution_count": null,
      "outputs": [
        {
          "output_type": "stream",
          "name": "stderr",
          "text": [
            "Installing package into ‘/usr/local/lib/R/site-library’\n",
            "(as ‘lib’ is unspecified)\n",
            "\n",
            "also installing the dependencies ‘plogr’, ‘gsubfn’, ‘proto’, ‘RSQLite’, ‘chron’\n",
            "\n",
            "\n",
            "Loading required package: gsubfn\n",
            "\n",
            "Loading required package: proto\n",
            "\n",
            "Warning message:\n",
            "“no DISPLAY variable so Tk is not available”\n",
            "Loading required package: RSQLite\n",
            "\n"
          ]
        },
        {
          "output_type": "stream",
          "name": "stdout",
          "text": [
            "  Relative Compactness Surface Area Wall Area Roof Area Overall Height\n",
            "1                 0.74          686       245     220.5            3.5\n",
            "2                 0.79          637       343     147.0            7.0\n",
            "  Orientation Glazing Area Glazing Area Distribution Heating Load Cooling Load\n",
            "1           4          0.0                         0         6.01        10.94\n",
            "2           3          0.4                         2        43.10        39.41\n"
          ]
        }
      ]
    },
    {
      "cell_type": "code",
      "source": [
        "#Inserting records\n",
        "values <- c(0.8, 700, 250, 200, 3.7, 3, 0.3, 0.4, 18.2, 24.5)\n",
        "\n",
        "\n",
        "insert_values <- paste(\"INSERT INTO energy_dataset VALUES (\", paste(values, collapse = \", \"), \");\", sep = \"\")\n",
        "\n",
        "\n",
        "sqldf(insert_values)"
      ],
      "metadata": {
        "colab": {
          "base_uri": "https://localhost:8080/",
          "height": 53
        },
        "id": "bR7Mf3AKwe1G",
        "outputId": "77685153-d08f-475a-c32e-f19cd34c8d92"
      },
      "execution_count": null,
      "outputs": [
        {
          "output_type": "stream",
          "name": "stderr",
          "text": [
            "Warning message in result_fetch(res@ptr, n = n):\n",
            "“SQL statements must be issued with dbExecute() or dbSendStatement() instead of dbGetQuery() or dbSendQuery().”\n"
          ]
        },
        {
          "output_type": "display_data",
          "data": {
            "text/html": [],
            "text/markdown": "",
            "text/latex": "",
            "text/plain": [
              "<0 x 0 matrix>"
            ]
          },
          "metadata": {}
        }
      ]
    },
    {
      "cell_type": "code",
      "source": [
        "#Updating records\n",
        "\n",
        "update_orientation <- \"\n",
        "                      UPDATE energy_dataset SET Orientation == 3\n",
        "                      WHERE [Heating Load] < 20\"\n",
        "\n",
        "sqldf(update_orientation)"
      ],
      "metadata": {
        "colab": {
          "base_uri": "https://localhost:8080/",
          "height": 53
        },
        "id": "iwkD99Whs0eK",
        "outputId": "d93a2603-cd04-4552-d200-4b07c9875e35"
      },
      "execution_count": null,
      "outputs": [
        {
          "output_type": "stream",
          "name": "stderr",
          "text": [
            "Warning message in result_fetch(res@ptr, n = n):\n",
            "“SQL statements must be issued with dbExecute() or dbSendStatement() instead of dbGetQuery() or dbSendQuery().”\n"
          ]
        },
        {
          "output_type": "display_data",
          "data": {
            "text/html": [],
            "text/markdown": "",
            "text/latex": "",
            "text/plain": [
              "<0 x 0 matrix>"
            ]
          },
          "metadata": {}
        }
      ]
    },
    {
      "cell_type": "code",
      "source": [
        "#Deleting records\n",
        "\n",
        "delete_record <- \"\n",
        "DELETE FROM energy_dataset WHERE [Relative Compactness] == 0.9\""
      ],
      "metadata": {
        "id": "4jUHbNj1VARM"
      },
      "execution_count": null,
      "outputs": []
    },
    {
      "cell_type": "code",
      "source": [
        "library(ggplot2)\n",
        "energy_dataset <- import(\"https://raw.githubusercontent.com/Joi-e/csvFiles/1cda24a5b69c2bc8ddc2a5b9f4f32b1bfa83a5b9/Energy_dataset.csv\")\n",
        "\n",
        "#Relationship between Surface Area and Cooling Load\n",
        "\n",
        "energy_plot <- ggplot(energy_dataset, aes(x = `Surface Area`, y = `Cooling Load`)) +\n",
        "  geom_point() +\n",
        "  labs(title = \"Relationship between Surface Area and Cooling Load\",\n",
        "  x= \"Surface Area\",\n",
        "  y = \"Cooling Load\") +\n",
        "  theme(axis.text.x = element_text(angle = 45, hjust = 1))\n",
        "\n",
        "print(energy_plot)"
      ],
      "metadata": {
        "colab": {
          "base_uri": "https://localhost:8080/",
          "height": 437
        },
        "id": "a9fVClDJZJ2n",
        "outputId": "dfbccd9c-674a-476d-da76-476686f3dfe7"
      },
      "execution_count": null,
      "outputs": [
        {
          "output_type": "display_data",
          "data": {
            "text/plain": [
              "plot without title"
            ],
            "image/png": "[encoded data removed]"
          },
          "metadata": {
            "image/png": {
              "width": 420,
              "height": 420
            }
          }
        }
      ]
    },
    {
      "cell_type": "code",
      "source": [
        "#Relationship between heating load and relative compactness\n",
        "\n",
        "energy_line_chart <- ggplot(energy_dataset, aes(x = `Relative Compactness`, y= `Heating Load`)) +\n",
        "  geom_line() +\n",
        "  labs(title = \"Relationship between Relative Compactness and Heating Load\", x = \"Relative Compactness\", y = \"Heating Load\")\n",
        "\n",
        "print(energy_line_chart)"
      ],
      "metadata": {
        "colab": {
          "base_uri": "https://localhost:8080/",
          "height": 437
        },
        "id": "QCL3jo-XgHwr",
        "outputId": "e9a69252-8c8e-4fb0-e63f-ebc73b69317c"
      },
      "execution_count": null,
      "outputs": [
        {
          "output_type": "display_data",
          "data": {
            "text/plain": [
              "plot without title"
            ],
            "image/png": "[encoded data removed]"
          },
          "metadata": {
            "image/png": {
              "width": 420,
              "height": 420
            }
          }
        }
      ]
    },
    {
      "cell_type": "code",
      "source": [
        "#Filtering data\n",
        "\n",
        "filtered_data <- subset(energy_dataset, `Relative Compactness` > 0.9)\n",
        "print(filtered_data)"
      ],
      "metadata": {
        "id": "mSD1WVZqjwqq",
        "colab": {
          "base_uri": "https://localhost:8080/"
        },
        "outputId": "a69837b7-e179-4b97-f69f-0857a93146bf"
      },
      "execution_count": null,
      "outputs": [
        {
          "output_type": "stream",
          "name": "stdout",
          "text": [
            "    Relative Compactness Surface Area Wall Area Roof Area Overall Height\n",
            "1                   0.98        514.5       294    110.25              7\n",
            "2                   0.98        514.5       294    110.25              7\n",
            "3                   0.98        514.5       294    110.25              7\n",
            "4                   0.98        514.5       294    110.25              7\n",
            "49                  0.98        514.5       294    110.25              7\n",
            "50                  0.98        514.5       294    110.25              7\n",
            "51                  0.98        514.5       294    110.25              7\n",
            "52                  0.98        514.5       294    110.25              7\n",
            "97                  0.98        514.5       294    110.25              7\n",
            "98                  0.98        514.5       294    110.25              7\n",
            "99                  0.98        514.5       294    110.25              7\n",
            "100                 0.98        514.5       294    110.25              7\n",
            "145                 0.98        514.5       294    110.25              7\n",
            "146                 0.98        514.5       294    110.25              7\n",
            "147                 0.98        514.5       294    110.25              7\n",
            "148                 0.98        514.5       294    110.25              7\n",
            "193                 0.98        514.5       294    110.25              7\n",
            "194                 0.98        514.5       294    110.25              7\n",
            "195                 0.98        514.5       294    110.25              7\n",
            "196                 0.98        514.5       294    110.25              7\n",
            "241                 0.98        514.5       294    110.25              7\n",
            "242                 0.98        514.5       294    110.25              7\n",
            "243                 0.98        514.5       294    110.25              7\n",
            "244                 0.98        514.5       294    110.25              7\n",
            "289                 0.98        514.5       294    110.25              7\n",
            "290                 0.98        514.5       294    110.25              7\n",
            "291                 0.98        514.5       294    110.25              7\n",
            "292                 0.98        514.5       294    110.25              7\n",
            "337                 0.98        514.5       294    110.25              7\n",
            "338                 0.98        514.5       294    110.25              7\n",
            "339                 0.98        514.5       294    110.25              7\n",
            "340                 0.98        514.5       294    110.25              7\n",
            "385                 0.98        514.5       294    110.25              7\n",
            "386                 0.98        514.5       294    110.25              7\n",
            "387                 0.98        514.5       294    110.25              7\n",
            "388                 0.98        514.5       294    110.25              7\n",
            "433                 0.98        514.5       294    110.25              7\n",
            "434                 0.98        514.5       294    110.25              7\n",
            "435                 0.98        514.5       294    110.25              7\n",
            "436                 0.98        514.5       294    110.25              7\n",
            "481                 0.98        514.5       294    110.25              7\n",
            "482                 0.98        514.5       294    110.25              7\n",
            "483                 0.98        514.5       294    110.25              7\n",
            "484                 0.98        514.5       294    110.25              7\n",
            "529                 0.98        514.5       294    110.25              7\n",
            "530                 0.98        514.5       294    110.25              7\n",
            "531                 0.98        514.5       294    110.25              7\n",
            "532                 0.98        514.5       294    110.25              7\n",
            "577                 0.98        514.5       294    110.25              7\n",
            "578                 0.98        514.5       294    110.25              7\n",
            "579                 0.98        514.5       294    110.25              7\n",
            "580                 0.98        514.5       294    110.25              7\n",
            "625                 0.98        514.5       294    110.25              7\n",
            "626                 0.98        514.5       294    110.25              7\n",
            "627                 0.98        514.5       294    110.25              7\n",
            "628                 0.98        514.5       294    110.25              7\n",
            "673                 0.98        514.5       294    110.25              7\n",
            "674                 0.98        514.5       294    110.25              7\n",
            "675                 0.98        514.5       294    110.25              7\n",
            "676                 0.98        514.5       294    110.25              7\n",
            "721                 0.98        514.5       294    110.25              7\n",
            "722                 0.98        514.5       294    110.25              7\n",
            "723                 0.98        514.5       294    110.25              7\n",
            "724                 0.98        514.5       294    110.25              7\n",
            "    Orientation Glazing Area Glazing Area Distribution Heating Load\n",
            "1             2         0.00                         0        15.55\n",
            "2             3         0.00                         0        15.55\n",
            "3             4         0.00                         0        15.55\n",
            "4             5         0.00                         0        15.55\n",
            "49            2         0.10                         1        24.58\n",
            "50            3         0.10                         1        24.63\n",
            "51            4         0.10                         1        24.63\n",
            "52            5         0.10                         1        24.59\n",
            "97            2         0.10                         2        24.29\n",
            "98            3         0.10                         2        24.31\n",
            "99            4         0.10                         2        24.13\n",
            "100           5         0.10                         2        24.25\n",
            "145           2         0.10                         3        24.28\n",
            "146           3         0.10                         3        24.40\n",
            "147           4         0.10                         3        24.11\n",
            "148           5         0.10                         3        24.35\n",
            "193           2         0.10                         4        24.38\n",
            "194           3         0.10                         4        24.23\n",
            "195           4         0.10                         4        24.04\n",
            "196           5         0.10                         4        24.32\n",
            "241           2         0.10                         5        24.35\n",
            "242           3         0.10                         5        24.33\n",
            "243           4         0.10                         5        24.03\n",
            "244           5         0.10                         5        24.26\n",
            "289           2         0.25                         1        28.15\n",
            "290           3         0.25                         1        28.15\n",
            "291           4         0.25                         1        28.37\n",
            "292           5         0.25                         1        28.41\n",
            "337           2         0.25                         2        28.67\n",
            "338           3         0.25                         2        28.57\n",
            "339           4         0.25                         2        28.18\n",
            "340           5         0.25                         2        28.60\n",
            "385           2         0.25                         3        28.67\n",
            "386           3         0.25                         3        28.56\n",
            "387           4         0.25                         3        28.17\n",
            "388           5         0.25                         3        28.63\n",
            "433           2         0.25                         4        28.70\n",
            "434           3         0.25                         4        28.55\n",
            "435           4         0.25                         4        28.15\n",
            "436           5         0.25                         4        28.62\n",
            "481           2         0.25                         5        28.69\n",
            "482           3         0.25                         5        28.58\n",
            "483           4         0.25                         5        28.15\n",
            "484           5         0.25                         5        28.61\n",
            "529           2         0.40                         1        32.26\n",
            "530           3         0.40                         1        32.26\n",
            "531           4         0.40                         1        32.49\n",
            "532           5         0.40                         1        32.53\n",
            "577           2         0.40                         2        32.82\n",
            "578           3         0.40                         2        32.71\n",
            "579           4         0.40                         2        32.24\n",
            "580           5         0.40                         2        32.72\n",
            "625           2         0.40                         3        32.82\n",
            "626           3         0.40                         3        32.69\n",
            "627           4         0.40                         3        32.23\n",
            "628           5         0.40                         3        32.75\n",
            "673           2         0.40                         4        32.85\n",
            "674           3         0.40                         4        32.67\n",
            "675           4         0.40                         4        32.21\n",
            "676           5         0.40                         4        32.74\n",
            "721           2         0.40                         5        32.84\n",
            "722           3         0.40                         5        32.72\n",
            "723           4         0.40                         5        32.21\n",
            "724           5         0.40                         5        32.73\n",
            "    Cooling Load\n",
            "1          21.33\n",
            "2          21.33\n",
            "3          21.33\n",
            "4          21.33\n",
            "49         26.47\n",
            "50         26.37\n",
            "51         26.44\n",
            "52         26.29\n",
            "97         25.95\n",
            "98         25.63\n",
            "99         26.13\n",
            "100        25.89\n",
            "145        25.68\n",
            "146        26.02\n",
            "147        25.84\n",
            "148        26.14\n",
            "193        25.91\n",
            "194        25.72\n",
            "195        26.18\n",
            "196        25.87\n",
            "241        25.64\n",
            "242        25.98\n",
            "243        25.88\n",
            "244        26.18\n",
            "289        29.79\n",
            "290        29.79\n",
            "291        29.28\n",
            "292        29.49\n",
            "337        29.62\n",
            "338        29.69\n",
            "339        30.18\n",
            "340        30.02\n",
            "385        29.43\n",
            "386        29.78\n",
            "387        30.10\n",
            "388        30.19\n",
            "433        29.61\n",
            "434        29.59\n",
            "435        30.19\n",
            "436        30.12\n",
            "481        29.53\n",
            "482        29.77\n",
            "483        30.00\n",
            "484        30.20\n",
            "529        33.37\n",
            "530        33.34\n",
            "531        32.83\n",
            "532        33.04\n",
            "577        32.96\n",
            "578        33.13\n",
            "579        33.94\n",
            "580        33.78\n",
            "625        32.78\n",
            "626        33.24\n",
            "627        33.86\n",
            "628        34.00\n",
            "673        32.95\n",
            "674        33.06\n",
            "675        33.95\n",
            "676        33.88\n",
            "721        32.88\n",
            "722        33.23\n",
            "723        33.76\n",
            "724        34.01\n"
          ]
        }
      ]
    },
    {
      "cell_type": "code",
      "source": [
        "#Reshaping data\n",
        "\n",
        "# Load required library\n",
        "library(tidyr)\n",
        "\n",
        "# Read the dataset\n",
        "energy_data <- read.csv(\"Energy_dataset.csv\")\n",
        "\n",
        "# Reshape the data from wide to long format\n",
        "long_data <- gather(energy_data, Attribute, Value, -c(Heating_Load, Cooling_Load))\n",
        "\n",
        "# View the reshaped data\n",
        "head(long_data)\n"
      ],
      "metadata": {
        "colab": {
          "base_uri": "https://localhost:8080/",
          "height": 198
        },
        "id": "QOjCtxmH5hnX",
        "outputId": "a62603df-dd85-43b9-822c-7acaad0f31a1"
      },
      "execution_count": null,
      "outputs": [
        {
          "output_type": "stream",
          "name": "stderr",
          "text": [
            "Warning message in file(file, \"rt\"):\n",
            "“cannot open file 'Energy_dataset.csv': No such file or directory”\n"
          ]
        },
        {
          "output_type": "error",
          "ename": "ERROR",
          "evalue": "Error in file(file, \"rt\"): cannot open the connection\n",
          "traceback": [
            "Error in file(file, \"rt\"): cannot open the connection\nTraceback:\n",
            "1. read.csv(\"Energy_dataset.csv\")",
            "2. read.table(file = file, header = header, sep = sep, quote = quote, \n .     dec = dec, fill = fill, comment.char = comment.char, ...)",
            "3. file(file, \"rt\")"
          ]
        }
      ]
    },
    {
      "cell_type": "code",
      "source": [
        "# Aggregating data\n",
        "\n",
        "library(dplyr)\n",
        "\n",
        "aggregated_data <- energy_dataset %>%\n",
        "  group_by(`Glazing Area Distribution`) %>%\n",
        "  summarize(\"Average Heating Load\" = mean(`Heating Load`))\n",
        "\n",
        "print(aggregated_data)"
      ],
      "metadata": {
        "colab": {
          "base_uri": "https://localhost:8080/"
        },
        "id": "fMdfR7Ynh0Qj",
        "outputId": "953e7c15-7127-4bab-bfcb-9ef10bc1622d"
      },
      "execution_count": null,
      "outputs": [
        {
          "output_type": "stream",
          "name": "stdout",
          "text": [
            "\u001b[90m# A tibble: 6 × 2\u001b[39m\n",
            "  `Glazing Area Distribution` `Average Heating Load`\n",
            "                        \u001b[3m\u001b[90m<int>\u001b[39m\u001b[23m                  \u001b[3m\u001b[90m<dbl>\u001b[39m\u001b[23m\n",
            "\u001b[90m1\u001b[39m                           0                   14.3\n",
            "\u001b[90m2\u001b[39m                           1                   23.0\n",
            "\u001b[90m3\u001b[39m                           2                   22.9\n",
            "\u001b[90m4\u001b[39m                           3                   22.7\n",
            "\u001b[90m5\u001b[39m                           4                   22.9\n",
            "\u001b[90m6\u001b[39m                           5                   22.7\n"
          ]
        }
      ]
    },
    {
      "cell_type": "code",
      "source": [
        "#Adding new column\n",
        "\n",
        "energy_dataset$Wall_To_Roof_Ratio <- energy_dataset$`Wall Area` / energy_dataset$`Roof Area`\n",
        "\n",
        "head(energy_dataset)"
      ],
      "metadata": {
        "colab": {
          "base_uri": "https://localhost:8080/",
          "height": 304
        },
        "id": "VUDISg8dGrRM",
        "outputId": "a00a13ce-d850-453b-e66c-d2c6a83dd1e2"
      },
      "execution_count": null,
      "outputs": [
        {
          "output_type": "display_data",
          "data": {
            "text/html": [
              "<table class=\"dataframe\">\n",
              "<caption>A data.frame: 6 × 11</caption>\n",
              "<thead>\n",
              "\t<tr><th></th><th scope=col>Relative Compactness</th><th scope=col>Surface Area</th><th scope=col>Wall Area</th><th scope=col>Roof Area</th><th scope=col>Overall Height</th><th scope=col>Orientation</th><th scope=col>Glazing Area</th><th scope=col>Glazing Area Distribution</th><th scope=col>Heating Load</th><th scope=col>Cooling Load</th><th scope=col>Wall_To_Roof_Ratio</th></tr>\n",
              "\t<tr><th></th><th scope=col>&lt;dbl&gt;</th><th scope=col>&lt;dbl&gt;</th><th scope=col>&lt;dbl&gt;</th><th scope=col>&lt;dbl&gt;</th><th scope=col>&lt;dbl&gt;</th><th scope=col>&lt;int&gt;</th><th scope=col>&lt;dbl&gt;</th><th scope=col>&lt;int&gt;</th><th scope=col>&lt;dbl&gt;</th><th scope=col>&lt;dbl&gt;</th><th scope=col>&lt;dbl&gt;</th></tr>\n",
              "</thead>\n",
              "<tbody>\n",
              "\t<tr><th scope=row>1</th><td>0.98</td><td>514.5</td><td>294.0</td><td>110.25</td><td>7</td><td>2</td><td>0</td><td>0</td><td>15.55</td><td>21.33</td><td>2.666667</td></tr>\n",
              "\t<tr><th scope=row>2</th><td>0.98</td><td>514.5</td><td>294.0</td><td>110.25</td><td>7</td><td>3</td><td>0</td><td>0</td><td>15.55</td><td>21.33</td><td>2.666667</td></tr>\n",
              "\t<tr><th scope=row>3</th><td>0.98</td><td>514.5</td><td>294.0</td><td>110.25</td><td>7</td><td>4</td><td>0</td><td>0</td><td>15.55</td><td>21.33</td><td>2.666667</td></tr>\n",
              "\t<tr><th scope=row>4</th><td>0.98</td><td>514.5</td><td>294.0</td><td>110.25</td><td>7</td><td>5</td><td>0</td><td>0</td><td>15.55</td><td>21.33</td><td>2.666667</td></tr>\n",
              "\t<tr><th scope=row>5</th><td>0.90</td><td>563.5</td><td>318.5</td><td>122.50</td><td>7</td><td>2</td><td>0</td><td>0</td><td>20.84</td><td>28.28</td><td>2.600000</td></tr>\n",
              "\t<tr><th scope=row>6</th><td>0.90</td><td>563.5</td><td>318.5</td><td>122.50</td><td>7</td><td>3</td><td>0</td><td>0</td><td>21.46</td><td>25.38</td><td>2.600000</td></tr>\n",
              "</tbody>\n",
              "</table>\n"
            ],
            "text/markdown": "\nA data.frame: 6 × 11\n\n| <!--/--> | Relative Compactness &lt;dbl&gt; | Surface Area &lt;dbl&gt; | Wall Area &lt;dbl&gt; | Roof Area &lt;dbl&gt; | Overall Height &lt;dbl&gt; | Orientation &lt;int&gt; | Glazing Area &lt;dbl&gt; | Glazing Area Distribution &lt;int&gt; | Heating Load &lt;dbl&gt; | Cooling Load &lt;dbl&gt; | Wall_To_Roof_Ratio &lt;dbl&gt; |\n|---|---|---|---|---|---|---|---|---|---|---|---|\n| 1 | 0.98 | 514.5 | 294.0 | 110.25 | 7 | 2 | 0 | 0 | 15.55 | 21.33 | 2.666667 |\n| 2 | 0.98 | 514.5 | 294.0 | 110.25 | 7 | 3 | 0 | 0 | 15.55 | 21.33 | 2.666667 |\n| 3 | 0.98 | 514.5 | 294.0 | 110.25 | 7 | 4 | 0 | 0 | 15.55 | 21.33 | 2.666667 |\n| 4 | 0.98 | 514.5 | 294.0 | 110.25 | 7 | 5 | 0 | 0 | 15.55 | 21.33 | 2.666667 |\n| 5 | 0.90 | 563.5 | 318.5 | 122.50 | 7 | 2 | 0 | 0 | 20.84 | 28.28 | 2.600000 |\n| 6 | 0.90 | 563.5 | 318.5 | 122.50 | 7 | 3 | 0 | 0 | 21.46 | 25.38 | 2.600000 |\n\n",
            "text/latex": "A data.frame: 6 × 11\n\\begin{tabular}{r|lllllllllll}\n  & Relative Compactness & Surface Area & Wall Area & Roof Area & Overall Height & Orientation & Glazing Area & Glazing Area Distribution & Heating Load & Cooling Load & Wall\\_To\\_Roof\\_Ratio\\\\\n  & <dbl> & <dbl> & <dbl> & <dbl> & <dbl> & <int> & <dbl> & <int> & <dbl> & <dbl> & <dbl>\\\\\n\\hline\n\t1 & 0.98 & 514.5 & 294.0 & 110.25 & 7 & 2 & 0 & 0 & 15.55 & 21.33 & 2.666667\\\\\n\t2 & 0.98 & 514.5 & 294.0 & 110.25 & 7 & 3 & 0 & 0 & 15.55 & 21.33 & 2.666667\\\\\n\t3 & 0.98 & 514.5 & 294.0 & 110.25 & 7 & 4 & 0 & 0 & 15.55 & 21.33 & 2.666667\\\\\n\t4 & 0.98 & 514.5 & 294.0 & 110.25 & 7 & 5 & 0 & 0 & 15.55 & 21.33 & 2.666667\\\\\n\t5 & 0.90 & 563.5 & 318.5 & 122.50 & 7 & 2 & 0 & 0 & 20.84 & 28.28 & 2.600000\\\\\n\t6 & 0.90 & 563.5 & 318.5 & 122.50 & 7 & 3 & 0 & 0 & 21.46 & 25.38 & 2.600000\\\\\n\\end{tabular}\n",
            "text/plain": [
              "  Relative Compactness Surface Area Wall Area Roof Area Overall Height\n",
              "1 0.98                 514.5        294.0     110.25    7             \n",
              "2 0.98                 514.5        294.0     110.25    7             \n",
              "3 0.98                 514.5        294.0     110.25    7             \n",
              "4 0.98                 514.5        294.0     110.25    7             \n",
              "5 0.90                 563.5        318.5     122.50    7             \n",
              "6 0.90                 563.5        318.5     122.50    7             \n",
              "  Orientation Glazing Area Glazing Area Distribution Heating Load Cooling Load\n",
              "1 2           0            0                         15.55        21.33       \n",
              "2 3           0            0                         15.55        21.33       \n",
              "3 4           0            0                         15.55        21.33       \n",
              "4 5           0            0                         15.55        21.33       \n",
              "5 2           0            0                         20.84        28.28       \n",
              "6 3           0            0                         21.46        25.38       \n",
              "  Wall_To_Roof_Ratio\n",
              "1 2.666667          \n",
              "2 2.666667          \n",
              "3 2.666667          \n",
              "4 2.666667          \n",
              "5 2.600000          \n",
              "6 2.600000          "
            ]
          },
          "metadata": {}
        }
      ]
    }
  ]
}